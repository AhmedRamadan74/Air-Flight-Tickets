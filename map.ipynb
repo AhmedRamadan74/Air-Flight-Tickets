{
 "cells": [
  {
   "cell_type": "code",
   "execution_count": 1,
   "id": "7a33f51c",
   "metadata": {},
   "outputs": [],
   "source": [
    "#pip install folium geopy\n"
   ]
  },
  {
   "cell_type": "code",
   "execution_count": 58,
   "id": "a9b4bab0",
   "metadata": {},
   "outputs": [],
   "source": [
    "import folium\n",
    "from geopy.geocoders import Nominatim\n",
    "\n",
    "def get_coordinates(address):\n",
    "    geolocator = Nominatim(user_agent=\"my_map_app\")\n",
    "    location = geolocator.geocode(address)\n",
    "    return location.latitude, location.longitude\n",
    "\n",
    "def plot_route(start_address, end_address,values):\n",
    "    #inital folium object\n",
    "    route_map = folium.Map(zoom_start=20)\n",
    "    for i in range(len(start_address)):\n",
    "        # Get coordinates for start and end points\n",
    "        start_coords = get_coordinates(start_address[i])\n",
    "        end_coords = get_coordinates(end_address[i])\n",
    "\n",
    "        # Create a folium map centered at the start point\n",
    "        folium.Map(location=start_coords).add_to(route_map)\n",
    "\n",
    "        # Plot start and end points\n",
    "        folium.Marker(start_coords, popup=start_address[i]).add_to(route_map)\n",
    "        folium.Marker(end_coords, popup=end_address[i]).add_to(route_map)\n",
    "\n",
    "        # Plot the route\n",
    "        route = [start_coords] + [end_coords]\n",
    "        folium.PolyLine(route, color=\"blue\", weight=2.5, popup=f\"{start_address[i]} → {end_address[i]} have {values[i]} flight\",opacity=1).add_to(route_map)\n",
    "        #add arrow\n",
    "        folium.RegularPolygonMarker(location=(end_coords[0], end_coords[1]), fill_color='blue', number_of_sides=3, radius=5).add_to(route_map)\n",
    "\n",
    "    # Save the map to an HTML file\n",
    "    route_map.save(\"route_map.html\")\n",
    "\n"
   ]
  },
  {
   "cell_type": "code",
   "execution_count": 59,
   "id": "49a9524c",
   "metadata": {},
   "outputs": [],
   "source": [
    "# Example usage\n",
    "start_address = ['Delhi', 'Kolkata', 'Banglore', 'Banglore', 'Mumbai', 'Chennai']\n",
    "end_address = ['Cochin', 'Banglore', 'Delhi', 'New Delhi', 'Hyderabad', 'Kolkata']\n",
    "values=[4057, 2459, 937, 689, 572, 319]\n",
    "\n",
    "\n",
    "plot_route(start_address, end_address,values)"
   ]
  }
 ],
 "metadata": {
  "kernelspec": {
   "display_name": "Python 3 (ipykernel)",
   "language": "python",
   "name": "python3"
  },
  "language_info": {
   "codemirror_mode": {
    "name": "ipython",
    "version": 3
   },
   "file_extension": ".py",
   "mimetype": "text/x-python",
   "name": "python",
   "nbconvert_exporter": "python",
   "pygments_lexer": "ipython3",
   "version": "3.9.12"
  }
 },
 "nbformat": 4,
 "nbformat_minor": 5
}
